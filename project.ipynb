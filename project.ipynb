{
 "cells": [
  {
   "cell_type": "code",
   "execution_count": 1,
   "id": "1beabb3e-d98c-4cee-8bde-1a1461a7aa61",
   "metadata": {},
   "outputs": [],
   "source": [
    "import os\n",
    "import numpy as np\n",
    "import pandas as pd\n",
    "import torch\n",
    "import torchvision.transforms as transforms\n",
    "from torchvision import models\n",
    "from torch.utils.data import Dataset, DataLoader\n",
    "from PIL import Image"
   ]
  },
  {
   "cell_type": "code",
   "execution_count": 4,
   "id": "50e2921a-ed6a-4211-99a0-b09460b5c536",
   "metadata": {},
   "outputs": [
    {
     "name": "stdout",
     "output_type": "stream",
     "text": [
      "Using device: cpu\n"
     ]
    }
   ],
   "source": [
    "# Check if CUDA (GPU) is available\n",
    "device = torch.device(\"cuda\" if torch.cuda.is_available() else \"cpu\")\n",
    "print(f\"Using device: {device}\")"
   ]
  },
  {
   "cell_type": "code",
   "execution_count": 6,
   "id": "ac71ee16-5aa9-449a-80d6-9f51a622fff2",
   "metadata": {},
   "outputs": [],
   "source": [
    "# Define the custom dataset class\n",
    "class AptosDataset(Dataset):\n",
    "    def __init__(self, image_dir, csv_file, transform=None):\n",
    "        self.image_dir = image_dir\n",
    "        self.data = pd.read_csv(csv_file)\n",
    "        self.transform = transform\n",
    "\n",
    "    def __len__(self):\n",
    "        return len(self.data)\n",
    "\n",
    "    def __getitem__(self, idx):\n",
    "        img_name = os.path.join(self.image_dir, self.data.iloc[idx, 0] + \".png\")\n",
    "        image = Image.open(img_name).convert('RGB')\n",
    "\n",
    "        if self.transform:\n",
    "            image = self.transform(image)\n",
    "\n",
    "        return image"
   ]
  },
  {
   "cell_type": "code",
   "execution_count": 8,
   "id": "493506fb-bb87-4ec6-8fb8-da232eef7dd9",
   "metadata": {},
   "outputs": [],
   "source": [
    "# Define transformations for ResNet-50\n",
    "transform = transforms.Compose([\n",
    "    transforms.Resize((224, 224)),  \n",
    "    transforms.ToTensor(),\n",
    "    transforms.Normalize(mean=[0.485, 0.456, 0.406], std=[0.229, 0.224, 0.225])\n",
    "])"
   ]
  },
  {
   "cell_type": "code",
   "execution_count": 10,
   "id": "4a60ef1e-13bc-4d36-8c32-fbc1b91cd8f6",
   "metadata": {},
   "outputs": [],
   "source": [
    "# Set paths (Update these paths according to your dataset location)\n",
    "image_dir = \"train_images\"  # Folder containing APTOS images\n",
    "csv_file = \"train.csv\"     # CSV file with image names"
   ]
  },
  {
   "cell_type": "code",
   "execution_count": 12,
   "id": "667bf0fd-de1a-4439-b7c1-b9152e03065a",
   "metadata": {},
   "outputs": [],
   "source": [
    "# Load dataset and DataLoader\n",
    "dataset = AptosDataset(image_dir, csv_file, transform=transform)\n",
    "dataloader = DataLoader(dataset, batch_size=32, shuffle=False, num_workers=0)  # Set num_workers=0\n"
   ]
  },
  {
   "cell_type": "code",
   "execution_count": 14,
   "id": "4bff6227-50ac-4382-a76e-a4883073e837",
   "metadata": {},
   "outputs": [
    {
     "name": "stderr",
     "output_type": "stream",
     "text": [
      "/opt/anaconda3/lib/python3.12/site-packages/torchvision/models/_utils.py:208: UserWarning: The parameter 'pretrained' is deprecated since 0.13 and may be removed in the future, please use 'weights' instead.\n",
      "  warnings.warn(\n",
      "/opt/anaconda3/lib/python3.12/site-packages/torchvision/models/_utils.py:223: UserWarning: Arguments other than a weight enum or `None` for 'weights' are deprecated since 0.13 and may be removed in the future. The current behavior is equivalent to passing `weights=ResNet50_Weights.IMAGENET1K_V1`. You can also use `weights=ResNet50_Weights.DEFAULT` to get the most up-to-date weights.\n",
      "  warnings.warn(msg)\n"
     ]
    },
    {
     "data": {
      "text/plain": [
       "Sequential(\n",
       "  (0): Conv2d(3, 64, kernel_size=(7, 7), stride=(2, 2), padding=(3, 3), bias=False)\n",
       "  (1): BatchNorm2d(64, eps=1e-05, momentum=0.1, affine=True, track_running_stats=True)\n",
       "  (2): ReLU(inplace=True)\n",
       "  (3): MaxPool2d(kernel_size=3, stride=2, padding=1, dilation=1, ceil_mode=False)\n",
       "  (4): Sequential(\n",
       "    (0): Bottleneck(\n",
       "      (conv1): Conv2d(64, 64, kernel_size=(1, 1), stride=(1, 1), bias=False)\n",
       "      (bn1): BatchNorm2d(64, eps=1e-05, momentum=0.1, affine=True, track_running_stats=True)\n",
       "      (conv2): Conv2d(64, 64, kernel_size=(3, 3), stride=(1, 1), padding=(1, 1), bias=False)\n",
       "      (bn2): BatchNorm2d(64, eps=1e-05, momentum=0.1, affine=True, track_running_stats=True)\n",
       "      (conv3): Conv2d(64, 256, kernel_size=(1, 1), stride=(1, 1), bias=False)\n",
       "      (bn3): BatchNorm2d(256, eps=1e-05, momentum=0.1, affine=True, track_running_stats=True)\n",
       "      (relu): ReLU(inplace=True)\n",
       "      (downsample): Sequential(\n",
       "        (0): Conv2d(64, 256, kernel_size=(1, 1), stride=(1, 1), bias=False)\n",
       "        (1): BatchNorm2d(256, eps=1e-05, momentum=0.1, affine=True, track_running_stats=True)\n",
       "      )\n",
       "    )\n",
       "    (1): Bottleneck(\n",
       "      (conv1): Conv2d(256, 64, kernel_size=(1, 1), stride=(1, 1), bias=False)\n",
       "      (bn1): BatchNorm2d(64, eps=1e-05, momentum=0.1, affine=True, track_running_stats=True)\n",
       "      (conv2): Conv2d(64, 64, kernel_size=(3, 3), stride=(1, 1), padding=(1, 1), bias=False)\n",
       "      (bn2): BatchNorm2d(64, eps=1e-05, momentum=0.1, affine=True, track_running_stats=True)\n",
       "      (conv3): Conv2d(64, 256, kernel_size=(1, 1), stride=(1, 1), bias=False)\n",
       "      (bn3): BatchNorm2d(256, eps=1e-05, momentum=0.1, affine=True, track_running_stats=True)\n",
       "      (relu): ReLU(inplace=True)\n",
       "    )\n",
       "    (2): Bottleneck(\n",
       "      (conv1): Conv2d(256, 64, kernel_size=(1, 1), stride=(1, 1), bias=False)\n",
       "      (bn1): BatchNorm2d(64, eps=1e-05, momentum=0.1, affine=True, track_running_stats=True)\n",
       "      (conv2): Conv2d(64, 64, kernel_size=(3, 3), stride=(1, 1), padding=(1, 1), bias=False)\n",
       "      (bn2): BatchNorm2d(64, eps=1e-05, momentum=0.1, affine=True, track_running_stats=True)\n",
       "      (conv3): Conv2d(64, 256, kernel_size=(1, 1), stride=(1, 1), bias=False)\n",
       "      (bn3): BatchNorm2d(256, eps=1e-05, momentum=0.1, affine=True, track_running_stats=True)\n",
       "      (relu): ReLU(inplace=True)\n",
       "    )\n",
       "  )\n",
       "  (5): Sequential(\n",
       "    (0): Bottleneck(\n",
       "      (conv1): Conv2d(256, 128, kernel_size=(1, 1), stride=(1, 1), bias=False)\n",
       "      (bn1): BatchNorm2d(128, eps=1e-05, momentum=0.1, affine=True, track_running_stats=True)\n",
       "      (conv2): Conv2d(128, 128, kernel_size=(3, 3), stride=(2, 2), padding=(1, 1), bias=False)\n",
       "      (bn2): BatchNorm2d(128, eps=1e-05, momentum=0.1, affine=True, track_running_stats=True)\n",
       "      (conv3): Conv2d(128, 512, kernel_size=(1, 1), stride=(1, 1), bias=False)\n",
       "      (bn3): BatchNorm2d(512, eps=1e-05, momentum=0.1, affine=True, track_running_stats=True)\n",
       "      (relu): ReLU(inplace=True)\n",
       "      (downsample): Sequential(\n",
       "        (0): Conv2d(256, 512, kernel_size=(1, 1), stride=(2, 2), bias=False)\n",
       "        (1): BatchNorm2d(512, eps=1e-05, momentum=0.1, affine=True, track_running_stats=True)\n",
       "      )\n",
       "    )\n",
       "    (1): Bottleneck(\n",
       "      (conv1): Conv2d(512, 128, kernel_size=(1, 1), stride=(1, 1), bias=False)\n",
       "      (bn1): BatchNorm2d(128, eps=1e-05, momentum=0.1, affine=True, track_running_stats=True)\n",
       "      (conv2): Conv2d(128, 128, kernel_size=(3, 3), stride=(1, 1), padding=(1, 1), bias=False)\n",
       "      (bn2): BatchNorm2d(128, eps=1e-05, momentum=0.1, affine=True, track_running_stats=True)\n",
       "      (conv3): Conv2d(128, 512, kernel_size=(1, 1), stride=(1, 1), bias=False)\n",
       "      (bn3): BatchNorm2d(512, eps=1e-05, momentum=0.1, affine=True, track_running_stats=True)\n",
       "      (relu): ReLU(inplace=True)\n",
       "    )\n",
       "    (2): Bottleneck(\n",
       "      (conv1): Conv2d(512, 128, kernel_size=(1, 1), stride=(1, 1), bias=False)\n",
       "      (bn1): BatchNorm2d(128, eps=1e-05, momentum=0.1, affine=True, track_running_stats=True)\n",
       "      (conv2): Conv2d(128, 128, kernel_size=(3, 3), stride=(1, 1), padding=(1, 1), bias=False)\n",
       "      (bn2): BatchNorm2d(128, eps=1e-05, momentum=0.1, affine=True, track_running_stats=True)\n",
       "      (conv3): Conv2d(128, 512, kernel_size=(1, 1), stride=(1, 1), bias=False)\n",
       "      (bn3): BatchNorm2d(512, eps=1e-05, momentum=0.1, affine=True, track_running_stats=True)\n",
       "      (relu): ReLU(inplace=True)\n",
       "    )\n",
       "    (3): Bottleneck(\n",
       "      (conv1): Conv2d(512, 128, kernel_size=(1, 1), stride=(1, 1), bias=False)\n",
       "      (bn1): BatchNorm2d(128, eps=1e-05, momentum=0.1, affine=True, track_running_stats=True)\n",
       "      (conv2): Conv2d(128, 128, kernel_size=(3, 3), stride=(1, 1), padding=(1, 1), bias=False)\n",
       "      (bn2): BatchNorm2d(128, eps=1e-05, momentum=0.1, affine=True, track_running_stats=True)\n",
       "      (conv3): Conv2d(128, 512, kernel_size=(1, 1), stride=(1, 1), bias=False)\n",
       "      (bn3): BatchNorm2d(512, eps=1e-05, momentum=0.1, affine=True, track_running_stats=True)\n",
       "      (relu): ReLU(inplace=True)\n",
       "    )\n",
       "  )\n",
       "  (6): Sequential(\n",
       "    (0): Bottleneck(\n",
       "      (conv1): Conv2d(512, 256, kernel_size=(1, 1), stride=(1, 1), bias=False)\n",
       "      (bn1): BatchNorm2d(256, eps=1e-05, momentum=0.1, affine=True, track_running_stats=True)\n",
       "      (conv2): Conv2d(256, 256, kernel_size=(3, 3), stride=(2, 2), padding=(1, 1), bias=False)\n",
       "      (bn2): BatchNorm2d(256, eps=1e-05, momentum=0.1, affine=True, track_running_stats=True)\n",
       "      (conv3): Conv2d(256, 1024, kernel_size=(1, 1), stride=(1, 1), bias=False)\n",
       "      (bn3): BatchNorm2d(1024, eps=1e-05, momentum=0.1, affine=True, track_running_stats=True)\n",
       "      (relu): ReLU(inplace=True)\n",
       "      (downsample): Sequential(\n",
       "        (0): Conv2d(512, 1024, kernel_size=(1, 1), stride=(2, 2), bias=False)\n",
       "        (1): BatchNorm2d(1024, eps=1e-05, momentum=0.1, affine=True, track_running_stats=True)\n",
       "      )\n",
       "    )\n",
       "    (1): Bottleneck(\n",
       "      (conv1): Conv2d(1024, 256, kernel_size=(1, 1), stride=(1, 1), bias=False)\n",
       "      (bn1): BatchNorm2d(256, eps=1e-05, momentum=0.1, affine=True, track_running_stats=True)\n",
       "      (conv2): Conv2d(256, 256, kernel_size=(3, 3), stride=(1, 1), padding=(1, 1), bias=False)\n",
       "      (bn2): BatchNorm2d(256, eps=1e-05, momentum=0.1, affine=True, track_running_stats=True)\n",
       "      (conv3): Conv2d(256, 1024, kernel_size=(1, 1), stride=(1, 1), bias=False)\n",
       "      (bn3): BatchNorm2d(1024, eps=1e-05, momentum=0.1, affine=True, track_running_stats=True)\n",
       "      (relu): ReLU(inplace=True)\n",
       "    )\n",
       "    (2): Bottleneck(\n",
       "      (conv1): Conv2d(1024, 256, kernel_size=(1, 1), stride=(1, 1), bias=False)\n",
       "      (bn1): BatchNorm2d(256, eps=1e-05, momentum=0.1, affine=True, track_running_stats=True)\n",
       "      (conv2): Conv2d(256, 256, kernel_size=(3, 3), stride=(1, 1), padding=(1, 1), bias=False)\n",
       "      (bn2): BatchNorm2d(256, eps=1e-05, momentum=0.1, affine=True, track_running_stats=True)\n",
       "      (conv3): Conv2d(256, 1024, kernel_size=(1, 1), stride=(1, 1), bias=False)\n",
       "      (bn3): BatchNorm2d(1024, eps=1e-05, momentum=0.1, affine=True, track_running_stats=True)\n",
       "      (relu): ReLU(inplace=True)\n",
       "    )\n",
       "    (3): Bottleneck(\n",
       "      (conv1): Conv2d(1024, 256, kernel_size=(1, 1), stride=(1, 1), bias=False)\n",
       "      (bn1): BatchNorm2d(256, eps=1e-05, momentum=0.1, affine=True, track_running_stats=True)\n",
       "      (conv2): Conv2d(256, 256, kernel_size=(3, 3), stride=(1, 1), padding=(1, 1), bias=False)\n",
       "      (bn2): BatchNorm2d(256, eps=1e-05, momentum=0.1, affine=True, track_running_stats=True)\n",
       "      (conv3): Conv2d(256, 1024, kernel_size=(1, 1), stride=(1, 1), bias=False)\n",
       "      (bn3): BatchNorm2d(1024, eps=1e-05, momentum=0.1, affine=True, track_running_stats=True)\n",
       "      (relu): ReLU(inplace=True)\n",
       "    )\n",
       "    (4): Bottleneck(\n",
       "      (conv1): Conv2d(1024, 256, kernel_size=(1, 1), stride=(1, 1), bias=False)\n",
       "      (bn1): BatchNorm2d(256, eps=1e-05, momentum=0.1, affine=True, track_running_stats=True)\n",
       "      (conv2): Conv2d(256, 256, kernel_size=(3, 3), stride=(1, 1), padding=(1, 1), bias=False)\n",
       "      (bn2): BatchNorm2d(256, eps=1e-05, momentum=0.1, affine=True, track_running_stats=True)\n",
       "      (conv3): Conv2d(256, 1024, kernel_size=(1, 1), stride=(1, 1), bias=False)\n",
       "      (bn3): BatchNorm2d(1024, eps=1e-05, momentum=0.1, affine=True, track_running_stats=True)\n",
       "      (relu): ReLU(inplace=True)\n",
       "    )\n",
       "    (5): Bottleneck(\n",
       "      (conv1): Conv2d(1024, 256, kernel_size=(1, 1), stride=(1, 1), bias=False)\n",
       "      (bn1): BatchNorm2d(256, eps=1e-05, momentum=0.1, affine=True, track_running_stats=True)\n",
       "      (conv2): Conv2d(256, 256, kernel_size=(3, 3), stride=(1, 1), padding=(1, 1), bias=False)\n",
       "      (bn2): BatchNorm2d(256, eps=1e-05, momentum=0.1, affine=True, track_running_stats=True)\n",
       "      (conv3): Conv2d(256, 1024, kernel_size=(1, 1), stride=(1, 1), bias=False)\n",
       "      (bn3): BatchNorm2d(1024, eps=1e-05, momentum=0.1, affine=True, track_running_stats=True)\n",
       "      (relu): ReLU(inplace=True)\n",
       "    )\n",
       "  )\n",
       "  (7): Sequential(\n",
       "    (0): Bottleneck(\n",
       "      (conv1): Conv2d(1024, 512, kernel_size=(1, 1), stride=(1, 1), bias=False)\n",
       "      (bn1): BatchNorm2d(512, eps=1e-05, momentum=0.1, affine=True, track_running_stats=True)\n",
       "      (conv2): Conv2d(512, 512, kernel_size=(3, 3), stride=(2, 2), padding=(1, 1), bias=False)\n",
       "      (bn2): BatchNorm2d(512, eps=1e-05, momentum=0.1, affine=True, track_running_stats=True)\n",
       "      (conv3): Conv2d(512, 2048, kernel_size=(1, 1), stride=(1, 1), bias=False)\n",
       "      (bn3): BatchNorm2d(2048, eps=1e-05, momentum=0.1, affine=True, track_running_stats=True)\n",
       "      (relu): ReLU(inplace=True)\n",
       "      (downsample): Sequential(\n",
       "        (0): Conv2d(1024, 2048, kernel_size=(1, 1), stride=(2, 2), bias=False)\n",
       "        (1): BatchNorm2d(2048, eps=1e-05, momentum=0.1, affine=True, track_running_stats=True)\n",
       "      )\n",
       "    )\n",
       "    (1): Bottleneck(\n",
       "      (conv1): Conv2d(2048, 512, kernel_size=(1, 1), stride=(1, 1), bias=False)\n",
       "      (bn1): BatchNorm2d(512, eps=1e-05, momentum=0.1, affine=True, track_running_stats=True)\n",
       "      (conv2): Conv2d(512, 512, kernel_size=(3, 3), stride=(1, 1), padding=(1, 1), bias=False)\n",
       "      (bn2): BatchNorm2d(512, eps=1e-05, momentum=0.1, affine=True, track_running_stats=True)\n",
       "      (conv3): Conv2d(512, 2048, kernel_size=(1, 1), stride=(1, 1), bias=False)\n",
       "      (bn3): BatchNorm2d(2048, eps=1e-05, momentum=0.1, affine=True, track_running_stats=True)\n",
       "      (relu): ReLU(inplace=True)\n",
       "    )\n",
       "    (2): Bottleneck(\n",
       "      (conv1): Conv2d(2048, 512, kernel_size=(1, 1), stride=(1, 1), bias=False)\n",
       "      (bn1): BatchNorm2d(512, eps=1e-05, momentum=0.1, affine=True, track_running_stats=True)\n",
       "      (conv2): Conv2d(512, 512, kernel_size=(3, 3), stride=(1, 1), padding=(1, 1), bias=False)\n",
       "      (bn2): BatchNorm2d(512, eps=1e-05, momentum=0.1, affine=True, track_running_stats=True)\n",
       "      (conv3): Conv2d(512, 2048, kernel_size=(1, 1), stride=(1, 1), bias=False)\n",
       "      (bn3): BatchNorm2d(2048, eps=1e-05, momentum=0.1, affine=True, track_running_stats=True)\n",
       "      (relu): ReLU(inplace=True)\n",
       "    )\n",
       "  )\n",
       "  (8): AdaptiveAvgPool2d(output_size=(1, 1))\n",
       ")"
      ]
     },
     "execution_count": 14,
     "metadata": {},
     "output_type": "execute_result"
    }
   ],
   "source": [
    "# Load pre-trained ResNet-50 model\n",
    "resnet50 = models.resnet50(pretrained=True)\n",
    "resnet50 = torch.nn.Sequential(*list(resnet50.children())[:-1])  # Remove last FC layer\n",
    "resnet50 = resnet50.to(device)\n",
    "resnet50.eval()  # Set model to evaluation mode"
   ]
  },
  {
   "cell_type": "code",
   "execution_count": 16,
   "id": "82b21488-9a24-4ec7-830a-17cb6b2e07a4",
   "metadata": {},
   "outputs": [
    {
     "name": "stdout",
     "output_type": "stream",
     "text": [
      "Extracted features shape: (3662, 2048)\n",
      "Feature extraction completed and saved as 'aptos_resnet50_features.npy'\n"
     ]
    }
   ],
   "source": [
    "# Extract features\n",
    "features_list = []\n",
    "\n",
    "with torch.no_grad():  # No need to calculate gradients\n",
    "    for images in dataloader:\n",
    "        images = images.to(device)\n",
    "        features = resnet50(images)  # Extract features\n",
    "        features = features.view(features.size(0), -1)  # Flatten features\n",
    "        features_list.append(features.cpu().numpy())  # Move to CPU before converting to NumPy\n",
    "\n",
    "# Convert list to numpy array\n",
    "features_array = np.vstack(features_list)\n",
    "print(\"Extracted features shape:\", features_array.shape)\n",
    "\n",
    "# Save extracted features\n",
    "np.save(\"aptos_resnet50_features.npy\", features_array)\n",
    "\n",
    "print(\"Feature extraction completed and saved as 'aptos_resnet50_features.npy'\")"
   ]
  },
  {
   "cell_type": "code",
   "execution_count": 18,
   "id": "82b4f866-d7a4-4f49-93a2-f6b32acbce37",
   "metadata": {},
   "outputs": [
    {
     "name": "stdout",
     "output_type": "stream",
     "text": [
      "Original feature shape: (3662, 2048)\n"
     ]
    }
   ],
   "source": [
    "import numpy as np\n",
    "import matplotlib.pyplot as plt\n",
    "from sklearn.decomposition import PCA\n",
    "\n",
    "# Load extracted ResNet-50 features\n",
    "features_array = np.load(\"aptos_resnet50_features.npy\")\n",
    "print(\"Original feature shape:\", features_array.shape)"
   ]
  },
  {
   "cell_type": "code",
   "execution_count": 20,
   "id": "7edcf0ea-53f9-48f4-b1e1-9c7c4b026ff7",
   "metadata": {},
   "outputs": [
    {
     "name": "stdout",
     "output_type": "stream",
     "text": [
      "Reduced feature shape: (3662, 100)\n"
     ]
    }
   ],
   "source": [
    "n_components = 100  # Reduce to 100 dimensions (You can adjust this)\n",
    "pca = PCA(n_components=n_components)\n",
    "reduced_features = pca.fit_transform(features_array)\n",
    "\n",
    "print(\"Reduced feature shape:\", reduced_features.shape)"
   ]
  },
  {
   "cell_type": "code",
   "execution_count": 22,
   "id": "33e2a696-fc1b-420d-8ae6-337eebac02bd",
   "metadata": {},
   "outputs": [
    {
     "data": {
      "image/png": "[encoded data removed]",
      "text/plain": [
       "<Figure size 1000x500 with 1 Axes>"
      ]
     },
     "metadata": {},
     "output_type": "display_data"
    }
   ],
   "source": [
    "plt.figure(figsize=(10, 5))\n",
    "plt.plot(np.cumsum(pca.explained_variance_ratio_), marker=\"o\")\n",
    "plt.xlabel(\"Number of Components\")\n",
    "plt.ylabel(\"Cumulative Explained Variance\")\n",
    "plt.title(\"PCA - Explained Variance vs. Number of Components\")\n",
    "plt.grid()\n",
    "plt.show()"
   ]
  },
  {
   "cell_type": "code",
   "execution_count": 24,
   "id": "960d872a-c294-451a-bacb-a47b27999a21",
   "metadata": {},
   "outputs": [
    {
     "name": "stdout",
     "output_type": "stream",
     "text": [
      "PCA features saved as 'aptos_pca_features.npy'.\n"
     ]
    }
   ],
   "source": [
    "np.save(\"aptos_pca_features.npy\", reduced_features)\n",
    "print(\"PCA features saved as 'aptos_pca_features.npy'.\")"
   ]
  },
  {
   "cell_type": "code",
   "execution_count": 4,
   "id": "d970dee7-69d9-4212-86d4-aa7d3e8b67eb",
   "metadata": {},
   "outputs": [
    {
     "name": "stdout",
     "output_type": "stream",
     "text": [
      "        id_code  diagnosis\n",
      "0  000c1434d8d7          2\n",
      "1  001639a390f0          4\n",
      "2  0024cdab0c1e          1\n",
      "3  002c21358ce6          0\n",
      "4  005b95c28852          0\n"
     ]
    }
   ],
   "source": [
    "import pandas as pd\n",
    "import numpy as np\n",
    "\n",
    "# Load the dataset CSV (update the filename if needed)\n",
    "df = pd.read_csv(\"train.csv\")  # Ensure this file exists in your directory\n",
    "\n",
    "# Display first few rows\n",
    "print(df.head())\n",
    "\n"
   ]
  },
  {
   "cell_type": "code",
   "execution_count": 6,
   "id": "605cc6eb-b57e-4846-953b-6b73bafaf1bf",
   "metadata": {},
   "outputs": [
    {
     "name": "stdout",
     "output_type": "stream",
     "text": [
      "Labels saved successfully! Shape: (3662,)\n"
     ]
    }
   ],
   "source": [
    "# Extract labels (convert to numpy array)\n",
    "labels = df[\"diagnosis\"].values\n",
    "\n",
    "# Save labels for future use\n",
    "np.save(\"labels.npy\", labels)\n",
    "\n",
    "# Confirm labels are saved correctly\n",
    "print(\"Labels saved successfully! Shape:\", labels.shape)"
   ]
  },
  {
   "cell_type": "code",
   "execution_count": 31,
   "id": "a219113d-e7b9-429e-b148-8ea1ba1c5a69",
   "metadata": {},
   "outputs": [
    {
     "name": "stdout",
     "output_type": "stream",
     "text": [
      "Loaded Labels Shape: (3662,)\n",
      "Unique Classes in Labels: [0 1 2 3 4]\n"
     ]
    }
   ],
   "source": [
    "# Load and print labels\n",
    "labels = np.load(\"labels.npy\")\n",
    "print(\"Loaded Labels Shape:\", labels.shape)\n",
    "print(\"Unique Classes in Labels:\", np.unique(labels))"
   ]
  },
  {
   "cell_type": "code",
   "execution_count": 2,
   "id": "b20f4952-5a08-479c-9221-4f24034d7834",
   "metadata": {},
   "outputs": [
    {
     "name": "stdout",
     "output_type": "stream",
     "text": [
      "Original class distribution: Counter({0: 1805, 2: 999, 1: 370, 4: 295, 3: 193})\n",
      "Balanced class distribution: Counter({2: 1805, 4: 1805, 1: 1805, 0: 1805, 3: 1805})\n",
      "SMOTE-applied features saved as 'aptos_smote_features.npy'\n",
      "SMOTE-applied labels saved as 'aptos_smote_labels.npy'\n"
     ]
    }
   ],
   "source": [
    "\n",
    "import numpy as np\n",
    "from imblearn.over_sampling import SMOTE\n",
    "from collections import Counter\n",
    "\n",
    "# Step 1: Load PCA Features and Labels\n",
    "X = np.load(\"aptos_pca_features.npy\")  # PCA-reduced features\n",
    "y = np.load(\"aptos_labels.npy\")  # Corresponding class labels\n",
    "\n",
    "print(\"Original class distribution:\", Counter(y))\n",
    "\n",
    "# Step 2: Apply SMOTE for Balancing Classes\n",
    "smote = SMOTE(sampling_strategy=\"auto\", random_state=42)\n",
    "X_resampled, y_resampled = smote.fit_resample(X, y)\n",
    "\n",
    "print(\"Balanced class distribution:\", Counter(y_resampled))\n",
    "\n",
    "# Step 3: Save the Balanced Dataset\n",
    "np.save(\"aptos_smote_features.npy\", X_resampled)\n",
    "np.save(\"aptos_smote_labels.npy\", y_resampled)\n",
    "\n",
    "print(\"SMOTE-applied features saved as 'aptos_smote_features.npy'\")\n",
    "print(\"SMOTE-applied labels saved as 'aptos_smote_labels.npy'\")\n"
   ]
  },
  {
   "cell_type": "code",
   "execution_count": 4,
   "id": "b4e9a3ef-feb1-4702-8af5-0b886cc0a845",
   "metadata": {},
   "outputs": [
    {
     "name": "stdout",
     "output_type": "stream",
     "text": [
      "Training set shape: (6317, 100) (6317,)\n",
      "Testing set shape: (2708, 100) (2708,)\n",
      "Train-Test Split Completed ✅\n"
     ]
    }
   ],
   "source": [
    "import numpy as np\n",
    "from sklearn.model_selection import train_test_split\n",
    "\n",
    "# Step 1: Load Balanced Dataset (After SMOTE)\n",
    "X = np.load(\"aptos_smote_features.npy\")  # Balanced features\n",
    "y = np.load(\"aptos_smote_labels.npy\")    # Balanced labels\n",
    "\n",
    "# Step 2: Split into Train (70%) & Test (30%)\n",
    "X_train, X_test, y_train, y_test = train_test_split(X, y, test_size=0.30, random_state=42, stratify=y)\n",
    "\n",
    "# Step 3: Save the Split Datasets\n",
    "np.save(\"aptos_X_train.npy\", X_train)\n",
    "np.save(\"aptos_X_test.npy\", X_test)\n",
    "np.save(\"aptos_y_train.npy\", y_train)\n",
    "np.save(\"aptos_y_test.npy\", y_test)\n",
    "\n",
    "print(\"Training set shape:\", X_train.shape, y_train.shape)\n",
    "print(\"Testing set shape:\", X_test.shape, y_test.shape)\n",
    "print(\"Train-Test Split Completed ✅\")\n"
   ]
  },
  {
   "cell_type": "code",
   "execution_count": 11,
   "id": "f0c9a132-50e4-481c-adb3-41ec0d26b7eb",
   "metadata": {},
   "outputs": [],
   "source": [
    "import numpy as np\n",
    "import time  # Import time module\n",
    "from sklearn.svm import SVC\n",
    "from sklearn.model_selection import GridSearchCV\n",
    "from sklearn.preprocessing import StandardScaler\n",
    "from sklearn.metrics import accuracy_score, classification_report\n",
    "from collections import Counter\n",
    "\n",
    "# Step 1: Load Train-Test Data\n",
    "X_train = np.load(\"aptos_X_train.npy\")\n",
    "y_train = np.load(\"aptos_y_train.npy\")\n",
    "X_test = np.load(\"aptos_X_test.npy\")\n",
    "y_test = np.load(\"aptos_y_test.npy\")"
   ]
  },
  {
   "cell_type": "code",
   "execution_count": 13,
   "id": "ff60577f-df59-4505-a1a0-37969e6f1eed",
   "metadata": {},
   "outputs": [],
   "source": [
    "\n",
    "# Step 2: Normalize Features (Important for SVM!)\n",
    "scaler = StandardScaler()\n",
    "X_train = scaler.fit_transform(X_train)\n",
    "X_test = scaler.transform(X_test)"
   ]
  },
  {
   "cell_type": "code",
   "execution_count": 15,
   "id": "095151b0-10e8-4a60-81ee-acb8d6e7440c",
   "metadata": {},
   "outputs": [],
   "source": [
    "# Step 3: Define the SVM Model\n",
    "svm = SVC()\n",
    "\n",
    "# Step 4: Define Hyperparameter Grid\n",
    "param_grid = {\n",
    "    'C': [0.1, 1, 10, 100],  # Regularization parameter\n",
    "    'kernel': ['linear', 'rbf', 'poly'],  # Kernel types\n",
    "    'gamma': ['scale', 'auto'],  # Kernel coefficient for 'rbf' and 'poly'\n",
    "    'degree': [2]  # Limit polynomial kernel to degree 2 (for speed)\n",
    "}"
   ]
  },
  {
   "cell_type": "code",
   "execution_count": null,
   "id": "6dbde144-9a9d-428d-89de-01bd074bb325",
   "metadata": {},
   "outputs": [
    {
     "name": "stdout",
     "output_type": "stream",
     "text": [
      "Starting Randomized Search...\n",
      "Fitting 3 folds for each of 10 candidates, totalling 30 fits\n",
      "[CV 2/3] END C=10, degree=2, gamma=auto, kernel=rbf;, score=0.958 total time=   8.4s\n",
      "[CV 1/3] END C=1, degree=2, gamma=auto, kernel=linear;, score=0.764 total time=   9.0s\n",
      "[CV 3/3] END C=0.1, degree=2, gamma=scale, kernel=rbf;, score=0.733 total time=   8.5s\n",
      "[CV 2/3] END C=0.1, degree=2, gamma=auto, kernel=poly;, score=0.635 total time=   4.2s\n",
      "[CV 1/3] END C=10, degree=2, gamma=auto, kernel=rbf;, score=0.955 total time=   8.4s\n",
      "[CV 3/3] END C=1, degree=2, gamma=auto, kernel=poly;, score=0.919 total time=   3.1s\n",
      "[CV 2/3] END C=10, degree=2, gamma=scale, kernel=rbf;, score=0.958 total time=   5.8s\n",
      "[CV 2/3] END C=0.1, degree=2, gamma=scale, kernel=rbf;, score=0.758 total time=   8.6s\n",
      "[CV 1/3] END C=0.1, degree=2, gamma=auto, kernel=poly;, score=0.654 total time=   4.2s\n",
      "[CV 3/3] END C=0.1, degree=2, gamma=auto, kernel=poly;, score=0.644 total time=   4.0s\n",
      "[CV 3/3] END C=1, degree=2, gamma=scale, kernel=poly;, score=0.919 total time=   6.0s\n",
      "[CV 2/3] END C=100, degree=2, gamma=scale, kernel=linear;, score=0.775 total time=12.1min\n",
      "[CV 1/3] END C=1, degree=2, gamma=scale, kernel=poly;, score=0.924 total time=   6.0s\n",
      "[CV 3/3] END C=100, degree=2, gamma=scale, kernel=linear;, score=0.766 total time=12.1min\n",
      "[CV 1/3] END C=0.1, degree=2, gamma=scale, kernel=linear;, score=0.762 total time=   4.4s\n",
      "[CV 3/3] END C=0.1, degree=2, gamma=scale, kernel=linear;, score=0.759 total time=   2.8s\n",
      "[CV 2/3] END C=1, degree=2, gamma=auto, kernel=poly;, score=0.925 total time=   3.2s\n",
      "[CV 1/3] END C=10, degree=2, gamma=scale, kernel=rbf;, score=0.955 total time=   5.5s\n",
      "[CV 3/3] END C=10, degree=2, gamma=scale, kernel=rbf;, score=0.952 total time=   6.2s\n",
      "[CV 2/3] END C=100, degree=2, gamma=auto, kernel=linear;, score=0.775 total time=12.0min\n",
      "[CV 3/3] END C=10, degree=2, gamma=auto, kernel=rbf;, score=0.952 total time=   8.5s\n",
      "[CV 2/3] END C=1, degree=2, gamma=auto, kernel=linear;, score=0.775 total time=   8.3s\n",
      "[CV 1/3] END C=0.1, degree=2, gamma=scale, kernel=rbf;, score=0.739 total time=   8.9s\n",
      "[CV 3/3] END C=100, degree=2, gamma=auto, kernel=linear;, score=0.766 total time=12.0min\n"
     ]
    }
   ],
   "source": [
    "from sklearn.model_selection import RandomizedSearchCV\n",
    "\n",
    "# Use RandomizedSearchCV instead of GridSearchCV\n",
    "random_search = RandomizedSearchCV(\n",
    "    svm, param_grid, n_iter=10, cv=3, scoring='accuracy', n_jobs=-1, verbose=3, random_state=42\n",
    ")\n",
    "\n",
    "print(\"Starting Randomized Search...\")\n",
    "start_time = time.time()\n",
    "random_search.fit(X_train, y_train)\n",
    "end_time = time.time()\n",
    "\n",
    "print(f\"Randomized Search completed in {end_time - start_time:.2f} seconds\")\n",
    "print(\"Best Hyperparameters:\", random_search.best_params_)\n",
    "\n",
    "best_svm = random_search.best_estimator_\n",
    "\n"
   ]
  },
  {
   "cell_type": "code",
   "execution_count": null,
   "id": "d1d05f25-9eda-47a1-bdf5-24cf97d24865",
   "metadata": {},
   "outputs": [],
   "source": []
  }
 ],
 "metadata": {
  "kernelspec": {
   "display_name": "Python [conda env:base] *",
   "language": "python",
   "name": "conda-base-py"
  },
  "language_info": {
   "codemirror_mode": {
    "name": "ipython",
    "version": 3
   },
   "file_extension": ".py",
   "mimetype": "text/x-python",
   "name": "python",
   "nbconvert_exporter": "python",
   "pygments_lexer": "ipython3",
   "version": "3.12.7"
  }
 },
 "nbformat": 4,
 "nbformat_minor": 5
}
